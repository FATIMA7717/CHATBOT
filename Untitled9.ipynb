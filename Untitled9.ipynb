{
  "nbformat": 4,
  "nbformat_minor": 0,
  "metadata": {
    "colab": {
      "provenance": [],
      "authorship_tag": "ABX9TyNAg40W7/hzjb/azka47tqG",
      "include_colab_link": true
    },
    "kernelspec": {
      "name": "python3",
      "display_name": "Python 3"
    },
    "language_info": {
      "name": "python"
    }
  },
  "cells": [
    {
      "cell_type": "markdown",
      "metadata": {
        "id": "view-in-github",
        "colab_type": "text"
      },
      "source": [
        "<a href=\"https://colab.research.google.com/github/FATIMA7717/CHATBOT/blob/main/Untitled9.ipynb\" target=\"_parent\"><img src=\"https://colab.research.google.com/assets/colab-badge.svg\" alt=\"Open In Colab\"/></a>"
      ]
    },
    {
      "cell_type": "code",
      "source": [
        "# Install necessary libraries (uncomment if running in a new environment)\n",
        "# !pip install transformers torch streamlit\n",
        "\n",
        "import streamlit as st\n",
        "from transformers import T5ForConditionalGeneration, T5Tokenizer\n",
        "\n",
        "# Load the Flan-T5 model and tokenizer\n",
        "model_name = \"google/flan-t5-base\"  # You can choose a different version as needed\n",
        "model = T5ForConditionalGeneration.from_pretrained(model_name)\n",
        "tokenizer = T5Tokenizer.from_pretrained(model_name)\n",
        "\n",
        "# Function to get a response from the model\n",
        "def get_ai_response(prompt):\n",
        "    inputs = tokenizer.encode(prompt, return_tensors=\"pt\")\n",
        "    outputs = model.generate(inputs, max_length=200, num_return_sequences=1, temperature=0.7)\n",
        "    response = tokenizer.decode(outputs[0], skip_special_tokens=True)\n",
        "    return response\n",
        "\n",
        "# Streamlit app\n",
        "def main():\n",
        "    st.title(\"AI Information Chatbot\")\n",
        "    user_input = st.text_input(\"Ask me anything about AI:\")\n",
        "\n",
        "    if user_input:\n",
        "        response = get_ai_response(user_input)\n",
        "        st.write(\"Bot:\", response)\n",
        "\n",
        "if __name__ == \"__main__\":\n",
        "    main()\n"
      ],
      "metadata": {
        "colab": {
          "base_uri": "https://localhost:8080/"
        },
        "id": "Ag27PYKmAi1w",
        "outputId": "ba0af05e-87d1-429b-a27b-1e19e8dd1d5c"
      },
      "execution_count": 5,
      "outputs": [
        {
          "output_type": "stream",
          "name": "stderr",
          "text": [
            "/usr/local/lib/python3.10/dist-packages/transformers/tokenization_utils_base.py:1601: FutureWarning: `clean_up_tokenization_spaces` was not set. It will be set to `True` by default. This behavior will be depracted in transformers v4.45, and will be then set to `False` by default. For more details check this issue: https://github.com/huggingface/transformers/issues/31884\n",
            "  warnings.warn(\n"
          ]
        },
        {
          "name": "stdout",
          "output_type": "stream",
          "text": [
            "Ask me anything about AI (type 'exit' to quit): what is ai\n"
          ]
        },
        {
          "output_type": "stream",
          "name": "stderr",
          "text": [
            "/usr/local/lib/python3.10/dist-packages/transformers/generation/configuration_utils.py:567: UserWarning: `do_sample` is set to `False`. However, `temperature` is set to `0.7` -- this flag is only used in sample-based generation modes. You should set `do_sample=True` or unset `temperature`.\n",
            "  warnings.warn(\n"
          ]
        },
        {
          "name": "stdout",
          "output_type": "stream",
          "text": [
            "Bot: ai\n",
            "Ask me anything about AI (type 'exit' to quit): deeply explain what is Ai\n",
            "Bot: Ai is a genus of fungi in the family Aiaceae.\n",
            "Ask me anything about AI (type 'exit' to quit): EXPLAIN WHAT IS AI\n",
            "Bot: AI is a computer program that enables the user to learn and control the behavior of an AI-based system.\n",
            "Ask me anything about AI (type 'exit' to quit): exit\n"
          ]
        }
      ]
    }
  ]
}